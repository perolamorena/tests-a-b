{
 "cells": [
  {
   "cell_type": "markdown",
   "metadata": {},
   "source": [
    " # 1.1 Projeto 9 "
   ]
  },
  {
   "cell_type": "markdown",
   "metadata": {},
   "source": [
    "# 1.2 Importando bibliotecas "
   ]
  },
  {
   "cell_type": "code",
   "execution_count": 109,
   "metadata": {},
   "outputs": [],
   "source": [
    "import pandas as pd \n",
    "import numpy as np\n",
    "import plotly.express as px\n",
    "from matplotlib import pyplot as plt\n",
    "from scipy import stats\n",
    "import seaborn as sns "
   ]
  },
  {
   "cell_type": "markdown",
   "metadata": {},
   "source": [
    "# 1.3 Pré análise dos dados"
   ]
  },
  {
   "cell_type": "code",
   "execution_count": 110,
   "metadata": {},
   "outputs": [],
   "source": [
    "hypotheses = pd.read_csv('/datasets/hypotheses_us.csv')\n",
    "orders = pd.read_csv('/datasets/orders_us.csv')\n",
    "visits = pd.read_csv('/datasets/visits_us.csv')"
   ]
  },
  {
   "cell_type": "code",
   "execution_count": 111,
   "metadata": {},
   "outputs": [
    {
     "name": "stdout",
     "output_type": "stream",
     "text": [
      "<class 'pandas.core.frame.DataFrame'>\n",
      "RangeIndex: 9 entries, 0 to 8\n",
      "Data columns (total 1 columns):\n",
      " #   Column                                     Non-Null Count  Dtype \n",
      "---  ------                                     --------------  ----- \n",
      " 0   Hypothesis;Reach;Impact;Confidence;Effort  9 non-null      object\n",
      "dtypes: object(1)\n",
      "memory usage: 200.0+ bytes\n"
     ]
    }
   ],
   "source": [
    "hypotheses.info()"
   ]
  },
  {
   "cell_type": "code",
   "execution_count": 112,
   "metadata": {},
   "outputs": [
    {
     "name": "stdout",
     "output_type": "stream",
     "text": [
      "<class 'pandas.core.frame.DataFrame'>\n",
      "RangeIndex: 1197 entries, 0 to 1196\n",
      "Data columns (total 5 columns):\n",
      " #   Column         Non-Null Count  Dtype  \n",
      "---  ------         --------------  -----  \n",
      " 0   transactionId  1197 non-null   int64  \n",
      " 1   visitorId      1197 non-null   int64  \n",
      " 2   date           1197 non-null   object \n",
      " 3   revenue        1197 non-null   float64\n",
      " 4   group          1197 non-null   object \n",
      "dtypes: float64(1), int64(2), object(2)\n",
      "memory usage: 46.9+ KB\n",
      "0\n",
      "transactionId    0\n",
      "visitorId        0\n",
      "date             0\n",
      "revenue          0\n",
      "group            0\n",
      "dtype: int64\n"
     ]
    }
   ],
   "source": [
    "orders.info()\n",
    "\n",
    "duplicated = orders.duplicated().sum()\n",
    "\n",
    "print(duplicated)\n",
    "print(orders.isnull().sum())"
   ]
  },
  {
   "cell_type": "code",
   "execution_count": 113,
   "metadata": {},
   "outputs": [],
   "source": [
    "orders = orders.rename(columns={\n",
    "    'transactionId': 'transaction_id',        \n",
    "    'visitorId': 'visitor_id',  \n",
    "})"
   ]
  },
  {
   "cell_type": "markdown",
   "metadata": {},
   "source": [
    "Não há valores nulos e nem valores duplicados mas aparentemente algo estranho com as colunas date e group "
   ]
  },
  {
   "cell_type": "code",
   "execution_count": 114,
   "metadata": {},
   "outputs": [
    {
     "name": "stdout",
     "output_type": "stream",
     "text": [
      "      transaction_id  visitor_id       date  revenue group\n",
      "0         3667963787  3312258926 2019-08-15     30.4     B\n",
      "1         2804400009  3642806036 2019-08-15     15.2     B\n",
      "2         2961555356  4069496402 2019-08-15     10.2     A\n",
      "3         3797467345  1196621759 2019-08-15    155.1     B\n",
      "4         2282983706  2322279887 2019-08-15     40.5     B\n",
      "...              ...         ...        ...      ...   ...\n",
      "1192      2662137336  3733762160 2019-08-14    100.8     B\n",
      "1193      2203539145   370388673 2019-08-14     50.1     A\n",
      "1194      1807773912   573423106 2019-08-14    165.3     A\n",
      "1195      1947021204  1614305549 2019-08-14      5.5     A\n",
      "1196      3936777065  2108080724 2019-08-15   3120.1     B\n",
      "\n",
      "[1197 rows x 5 columns]\n",
      "<class 'pandas.core.frame.DataFrame'>\n",
      "RangeIndex: 1197 entries, 0 to 1196\n",
      "Data columns (total 5 columns):\n",
      " #   Column          Non-Null Count  Dtype         \n",
      "---  ------          --------------  -----         \n",
      " 0   transaction_id  1197 non-null   int64         \n",
      " 1   visitor_id      1197 non-null   int64         \n",
      " 2   date            1197 non-null   datetime64[ns]\n",
      " 3   revenue         1197 non-null   float64       \n",
      " 4   group           1197 non-null   category      \n",
      "dtypes: category(1), datetime64[ns](1), float64(1), int64(2)\n",
      "memory usage: 38.8 KB\n"
     ]
    }
   ],
   "source": [
    "orders['date'] = pd.to_datetime(orders['date']) # convertendo para timestamp\n",
    "orders['group'] = orders['group'].astype('category') # convertendo para category\n",
    "print(orders)\n",
    "orders.info() # verificando conversão"
   ]
  },
  {
   "cell_type": "code",
   "execution_count": 115,
   "metadata": {},
   "outputs": [
    {
     "name": "stdout",
     "output_type": "stream",
     "text": [
      "0\n"
     ]
    }
   ],
   "source": [
    "duplicated = orders.duplicated().sum() # checando se algo mudou\n",
    "\n",
    "print(duplicated)"
   ]
  },
  {
   "cell_type": "code",
   "execution_count": 116,
   "metadata": {},
   "outputs": [
    {
     "name": "stdout",
     "output_type": "stream",
     "text": [
      "<class 'pandas.core.frame.DataFrame'>\n",
      "RangeIndex: 62 entries, 0 to 61\n",
      "Data columns (total 3 columns):\n",
      " #   Column  Non-Null Count  Dtype \n",
      "---  ------  --------------  ----- \n",
      " 0   date    62 non-null     object\n",
      " 1   group   62 non-null     object\n",
      " 2   visits  62 non-null     int64 \n",
      "dtypes: int64(1), object(2)\n",
      "memory usage: 1.6+ KB\n"
     ]
    }
   ],
   "source": [
    "visits.info()"
   ]
  },
  {
   "cell_type": "code",
   "execution_count": 117,
   "metadata": {},
   "outputs": [
    {
     "name": "stdout",
     "output_type": "stream",
     "text": [
      "         date group  visits\n",
      "0  2019-08-01     A     719\n",
      "1  2019-08-02     A     619\n",
      "2  2019-08-03     A     507\n",
      "3  2019-08-04     A     717\n",
      "4  2019-08-05     A     756\n",
      "..        ...   ...     ...\n",
      "57 2019-08-27     B     720\n",
      "58 2019-08-28     B     654\n",
      "59 2019-08-29     B     531\n",
      "60 2019-08-30     B     490\n",
      "61 2019-08-31     B     718\n",
      "\n",
      "[62 rows x 3 columns]\n",
      "<class 'pandas.core.frame.DataFrame'>\n",
      "RangeIndex: 62 entries, 0 to 61\n",
      "Data columns (total 3 columns):\n",
      " #   Column  Non-Null Count  Dtype         \n",
      "---  ------  --------------  -----         \n",
      " 0   date    62 non-null     datetime64[ns]\n",
      " 1   group   62 non-null     category      \n",
      " 2   visits  62 non-null     int64         \n",
      "dtypes: category(1), datetime64[ns](1), int64(1)\n",
      "memory usage: 1.3 KB\n"
     ]
    }
   ],
   "source": [
    "visits['date'] = pd.to_datetime(visits['date']) # convertendo para timestamp\n",
    "visits['group'] = visits['group'].astype('category') # convertendo para category\n",
    "print(visits)\n",
    "visits.info() # verificando conversão"
   ]
  },
  {
   "cell_type": "code",
   "execution_count": 118,
   "metadata": {},
   "outputs": [
    {
     "name": "stdout",
     "output_type": "stream",
     "text": [
      "0\n",
      "date      0\n",
      "group     0\n",
      "visits    0\n",
      "dtype: int64\n",
      "        date group  visits\n",
      "0 2019-08-01     A     719\n",
      "1 2019-08-02     A     619\n",
      "2 2019-08-03     A     507\n",
      "3 2019-08-04     A     717\n",
      "4 2019-08-05     A     756\n"
     ]
    }
   ],
   "source": [
    "duplicated = visits.duplicated().sum()\n",
    "\n",
    "print(duplicated)\n",
    "print(visits.isnull().sum())\n",
    "print(visits.head(5))"
   ]
  },
  {
   "cell_type": "markdown",
   "metadata": {},
   "source": [
    " Não há presença de valores nulos ou duplicados e os dados foram convertidos para o tipo correto."
   ]
  },
  {
   "cell_type": "code",
   "execution_count": 119,
   "metadata": {},
   "outputs": [
    {
     "name": "stdout",
     "output_type": "stream",
     "text": [
      "Número de visitantes em ambos os grupos no DataFrame 'orders': 58\n",
      "Visitantes em ambos os grupos: visitor_id\n",
      "8300375       2\n",
      "199603092     2\n",
      "232979603     2\n",
      "237748145     2\n",
      "276558944     2\n",
      "351125977     2\n",
      "393266494     2\n",
      "457167155     2\n",
      "471551937     2\n",
      "477780734     2\n",
      "818047933     2\n",
      "963407295     2\n",
      "1230306981    2\n",
      "1294878855    2\n",
      "1316129916    2\n",
      "1333886533    2\n",
      "1404934699    2\n",
      "1602967004    2\n",
      "1614305549    2\n",
      "1648269707    2\n",
      "1668030113    2\n",
      "1738359350    2\n",
      "1801183820    2\n",
      "1959144690    2\n",
      "2038680547    2\n",
      "2044997962    2\n",
      "2378935119    2\n",
      "2458001652    2\n",
      "2579882178    2\n",
      "2587333274    2\n",
      "2600415354    2\n",
      "2654030115    2\n",
      "2686716486    2\n",
      "2712142231    2\n",
      "2716752286    2\n",
      "2780786433    2\n",
      "2927087541    2\n",
      "2949041841    2\n",
      "2954449915    2\n",
      "3062433592    2\n",
      "3202540741    2\n",
      "3234906277    2\n",
      "3656415546    2\n",
      "3717692402    2\n",
      "3766097110    2\n",
      "3803269165    2\n",
      "3891541246    2\n",
      "3941795274    2\n",
      "3951559397    2\n",
      "3957174400    2\n",
      "3963646447    2\n",
      "3972127743    2\n",
      "3984495233    2\n",
      "4069496402    2\n",
      "4120364173    2\n",
      "4186807279    2\n",
      "4256040402    2\n",
      "4266935830    2\n",
      "Name: group, dtype: int64\n"
     ]
    }
   ],
   "source": [
    "# Agrupando por 'visitor_id' para contar o número de grupos únicos\n",
    "visitantes_grupos_orders = orders.groupby('visitor_id')['group'].nunique()\n",
    "\n",
    "# Filtrando os visitantes que estão em mais de um grupo (ou seja, número de grupos > 1)\n",
    "visitantes_em_ambos_os_grupos_orders = visitantes_grupos_orders[visitantes_grupos_orders > 1]\n",
    "\n",
    "# Exibindo a quantidade de visitantes duplicados\n",
    "print(\"Número de visitantes em ambos os grupos no DataFrame 'orders':\", visitantes_em_ambos_os_grupos_orders.count())\n",
    "print(\"Visitantes em ambos os grupos:\", visitantes_em_ambos_os_grupos_orders)"
   ]
  },
  {
   "cell_type": "markdown",
   "metadata": {},
   "source": [
    "Foram encontrados 58 visitantes em ambos os grupos, preciso analisar qual a melhor maneira de lidar "
   ]
  },
  {
   "cell_type": "code",
   "execution_count": 120,
   "metadata": {},
   "outputs": [
    {
     "name": "stdout",
     "output_type": "stream",
     "text": [
      "Número de IDs de transação duplicados em 'orders': 0\n"
     ]
    }
   ],
   "source": [
    "duplicatas_transaction = orders['transaction_id'].duplicated().sum()\n",
    "print(\"Número de IDs de transação duplicados em 'orders':\", duplicatas_transaction)"
   ]
  },
  {
   "cell_type": "code",
   "execution_count": 121,
   "metadata": {},
   "outputs": [
    {
     "name": "stdout",
     "output_type": "stream",
     "text": [
      "Número de valores de receita inválidos: 0\n",
      "Empty DataFrame\n",
      "Columns: [transaction_id, visitor_id, date, revenue, group]\n",
      "Index: []\n"
     ]
    }
   ],
   "source": [
    "receita_invalida = orders[orders['revenue'] <= 0]\n",
    "print(\"Número de valores de receita inválidos:\", receita_invalida.shape[0])\n",
    "print(receita_invalida)"
   ]
  },
  {
   "cell_type": "code",
   "execution_count": 122,
   "metadata": {},
   "outputs": [
    {
     "name": "stdout",
     "output_type": "stream",
     "text": [
      "Número de valores de visitas inválidos: 0\n",
      "Empty DataFrame\n",
      "Columns: [date, group, visits]\n",
      "Index: []\n"
     ]
    }
   ],
   "source": [
    "visitas_invalidas = visits[visits['visits'] <= 0]\n",
    "print(\"Número de valores de visitas inválidos:\", visitas_invalidas.shape[0])\n",
    "print(visitas_invalidas)"
   ]
  },
  {
   "cell_type": "code",
   "execution_count": 123,
   "metadata": {},
   "outputs": [
    {
     "name": "stdout",
     "output_type": "stream",
     "text": [
      "Período de datas em 'orders': 2019-08-01 00:00:00 a 2019-08-31 00:00:00\n",
      "Período de datas em 'visits': 2019-08-01 00:00:00 a 2019-08-31 00:00:00\n"
     ]
    }
   ],
   "source": [
    "print(\"Período de datas em 'orders':\", orders['date'].min(), \"a\", orders['date'].max())\n",
    "print(\"Período de datas em 'visits':\", visits['date'].min(), \"a\", visits['date'].max())"
   ]
  },
  {
   "cell_type": "markdown",
   "metadata": {},
   "source": [
    "verificando a limpeza dos dados para prosseguir com a análise "
   ]
  },
  {
   "cell_type": "code",
   "execution_count": 124,
   "metadata": {},
   "outputs": [
    {
     "name": "stdout",
     "output_type": "stream",
     "text": [
      "Número total de visitantes antes de excluir duplicados: 1031\n"
     ]
    }
   ],
   "source": [
    "numero_visitantes_antes = orders['visitor_id'].nunique()\n",
    "\n",
    "print(\"Número total de visitantes antes de excluir duplicados:\", numero_visitantes_antes)"
   ]
  },
  {
   "cell_type": "code",
   "execution_count": 125,
   "metadata": {},
   "outputs": [
    {
     "name": "stdout",
     "output_type": "stream",
     "text": [
      "Número de visitantes após filtrar duplicados: 973\n"
     ]
    }
   ],
   "source": [
    "visitantes_duplicados = visitantes_em_ambos_os_grupos_orders.index\n",
    "\n",
    "# Excluindo esses visitantes do DataFrame 'orders'\n",
    "orders_filtradas = orders[~orders['visitor_id'].isin(visitantes_duplicados)]\n",
    "\n",
    "# Verificando a quantidade de visitantes após a filtragem\n",
    "print(\"Número de visitantes após filtrar duplicados:\", orders_filtradas['visitor_id'].nunique())"
   ]
  },
  {
   "cell_type": "markdown",
   "metadata": {},
   "source": [
    "Excluí os visitantes duplicados entre os grupos A e B"
   ]
  },
  {
   "cell_type": "markdown",
   "metadata": {},
   "source": [
    "# 1.4 Priorizando hipóteses"
   ]
  },
  {
   "cell_type": "code",
   "execution_count": 126,
   "metadata": {},
   "outputs": [
    {
     "name": "stdout",
     "output_type": "stream",
     "text": [
      "                                          Hypothesis        ICE\n",
      "8  Launch a promotion that gives users discounts ...  16.200000\n",
      "0  Add two new channels for attracting traffic. T...  13.333333\n",
      "7  Add a subscription form to all the main pages....  11.200000\n",
      "6  Show banners with current offers and sales on ...   8.000000\n",
      "2  Add product recommendation blocks to the store...   7.000000\n",
      "1  Launch your own delivery service. This will sh...   2.000000\n",
      "5  Add a customer review page. This will increase...   1.333333\n",
      "3  Change the category structure. This will incre...   1.125000\n",
      "4  Change the background color on the main page. ...   1.000000\n"
     ]
    }
   ],
   "source": [
    "import pandas as pd\n",
    "\n",
    "# Lendo o arquivo CSV com o separador correto\n",
    "hypotheses = pd.read_csv('/datasets/hypotheses_us.csv', sep=';')\n",
    "\n",
    "\n",
    "#  calculando o ICE\n",
    "hypotheses['ICE'] = (hypotheses['Impact'] * hypotheses['Confidence']) / hypotheses['Effort']\n",
    "print(hypotheses[['Hypothesis', 'ICE']].sort_values(by='ICE', ascending=False))"
   ]
  },
  {
   "cell_type": "markdown",
   "metadata": {},
   "source": [
    "Os resultados do cálculo do ICE (Impacto, Confiança e Esforço) fornecem uma visão clara sobre a priorização de várias hipóteses para ações estratégicas. A hipótese que se destaca com o maior valor de ICE (16,20) é a de lançar uma promoção que oferece descontos aos usuários. Este alto valor indica que essa iniciativa é considerada altamente impactante, com uma boa confiança na sua eficácia e um esforço relativamente baixo para implementação, o que a torna uma prioridade alta.\n",
    "\n",
    "Na sequência, a proposta de adicionar dois novos canais para atrair tráfego apresenta um valor de ICE de 13,33, também sugerindo que essa estratégia tem um potencial significativo e deve ser considerada com seriedade. Similarmente, a hipótese de adicionar um formulário de assinatura em todas as páginas principais obteve um ICE de 11,20, indicando que essa ação pode ser uma boa oportunidade para aumentar o envolvimento dos usuários e captar leads.\n",
    "\n",
    "Outras iniciativas, como exibir banners com ofertas atuais e vendas na página principal (ICE de 8,00) e adicionar blocos de recomendações de produtos na loja (ICE de 7,00), ainda são relevantes, mas com um impacto considerado moderado em comparação com as hipóteses anteriores.\n",
    "\n",
    "Por outro lado, a ideia de lançar um serviço de entrega própria, com um ICE de 2,00, apesar de positiva, sugere que pode exigir um esforço significativo, tornando-se uma opção menos prioritária. A adição de uma página de avaliações de clientes (ICE de 1,33) e a mudança na estrutura de categorias (ICE de 1,13) apresentam valores ainda mais baixos, indicando que, embora sejam boas iniciativas, não têm um impacto suficiente para justificar a atenção imediata.\n",
    "\n",
    "Finalmente, a proposta de mudar a cor de fundo da página principal possui o menor valor de ICE (1,00), o que a torna a hipótese menos prioritária no contexto geral. Essa análise ressalta a importância de priorizar ações com base em seu potencial impacto e o esforço requerido, ajudando na tomada de decisões estratégicas mais informadas."
   ]
  },
  {
   "cell_type": "code",
   "execution_count": 127,
   "metadata": {},
   "outputs": [
    {
     "name": "stdout",
     "output_type": "stream",
     "text": [
      "                                          Hypothesis  Reach  Impact  \\\n",
      "0  Add two new channels for attracting traffic. T...      3      10   \n",
      "1  Launch your own delivery service. This will sh...      2       5   \n",
      "2  Add product recommendation blocks to the store...      8       3   \n",
      "3  Change the category structure. This will incre...      8       3   \n",
      "4  Change the background color on the main page. ...      3       1   \n",
      "5  Add a customer review page. This will increase...      3       2   \n",
      "6  Show banners with current offers and sales on ...      5       3   \n",
      "7  Add a subscription form to all the main pages....     10       7   \n",
      "8  Launch a promotion that gives users discounts ...      1       9   \n",
      "\n",
      "   Confidence  Effort  \n",
      "0           8       6  \n",
      "1           4      10  \n",
      "2           7       3  \n",
      "3           3       8  \n",
      "4           1       1  \n",
      "5           2       3  \n",
      "6           8       3  \n",
      "7           8       5  \n",
      "8           9       5  \n",
      "                                          Hypothesis   RICE\n",
      "7  Add a subscription form to all the main pages....  112.0\n",
      "2  Add product recommendation blocks to the store...   56.0\n",
      "0  Add two new channels for attracting traffic. T...   40.0\n",
      "6  Show banners with current offers and sales on ...   40.0\n",
      "8  Launch a promotion that gives users discounts ...   16.2\n",
      "3  Change the category structure. This will incre...    9.0\n",
      "1  Launch your own delivery service. This will sh...    4.0\n",
      "5  Add a customer review page. This will increase...    4.0\n",
      "4  Change the background color on the main page. ...    3.0\n"
     ]
    }
   ],
   "source": [
    "import pandas as pd\n",
    "\n",
    "hypotheses = pd.read_csv('/datasets/hypotheses_us.csv', sep=';')\n",
    "\n",
    "print(hypotheses)\n",
    "\n",
    "hypotheses['RICE'] = (hypotheses['Reach']*hypotheses['Impact']*hypotheses['Confidence'])/hypotheses['Effort']\n",
    "print(hypotheses[['Hypothesis','RICE']].sort_values(by='RICE', ascending=False))\n",
    "\n"
   ]
  },
  {
   "cell_type": "markdown",
   "metadata": {},
   "source": [
    "o RICE indica que a hipótese de adicionar um subscripition form às páginas principais deve ter uma alta priorização. Adicionar recomendações de produtos, banners e canais que atraiam tráfegos também podem ser considerados uma boa estratégia, mesmo com um nível médio de significância. As outras opções podem ser importantes mas não urgentes em um contexto amplo."
   ]
  },
  {
   "cell_type": "markdown",
   "metadata": {},
   "source": [
    "Ao calcular o ICE, é possível perceber que a priorização de hipótese é focada em lançar uma promoção com disconto para os clientes e em RICE, adicionar formulário de inscrição nas páginas principais. O ICE indica uma visão mais direta e simples, enquanto o RICE é mais detalhado e oferece uma visão mais abrangente de eficácia já que calcula o alcance de quantos usuários ou clientes serão afetados pela iniciativa proposta."
   ]
  },
  {
   "cell_type": "code",
   "execution_count": 128,
   "metadata": {},
   "outputs": [
    {
     "data": {
      "image/png": "[encoded data removed]",
      "text/plain": [
       "<Figure size 1000x600 with 1 Axes>"
      ]
     },
     "metadata": {},
     "output_type": "display_data"
    }
   ],
   "source": [
    "hypotheses[['Reach', 'Impact', 'Confidence', 'Effort']].boxplot(figsize=(10, 6));"
   ]
  },
  {
   "cell_type": "markdown",
   "metadata": {},
   "source": [
    "# 1.5 Análise de hipóteses"
   ]
  },
  {
   "cell_type": "markdown",
   "metadata": {},
   "source": [
    "## Cálculo de receita acumulada"
   ]
  },
  {
   "cell_type": "code",
   "execution_count": 129,
   "metadata": {},
   "outputs": [
    {
     "name": "stdout",
     "output_type": "stream",
     "text": [
      "         date group  revenue  cumulative_revenue\n",
      "0  2019-08-01     A   2356.8              2356.8\n",
      "1  2019-08-01     B   1620.0              1620.0\n",
      "2  2019-08-02     A   1503.5              3860.3\n",
      "3  2019-08-02     B   2623.8              4243.8\n",
      "4  2019-08-03     A   1815.2              5675.5\n",
      "..        ...   ...      ...                 ...\n",
      "57 2019-08-29     B   3623.7             87343.0\n",
      "58 2019-08-30     A   1364.3             63563.5\n",
      "59 2019-08-30     B   3393.3             90736.3\n",
      "60 2019-08-31     A    991.4             64554.9\n",
      "61 2019-08-31     B   2104.3             92840.6\n",
      "\n",
      "[62 rows x 4 columns]\n"
     ]
    },
    {
     "data": {
      "image/png": "[encoded data removed]",
      "text/plain": [
       "<Figure size 1200x600 with 1 Axes>"
      ]
     },
     "metadata": {},
     "output_type": "display_data"
    }
   ],
   "source": [
    "revenue_grouped = orders.groupby(['date', 'group'])['revenue'].sum().reset_index()\n",
    "\n",
    "# Calculando a receita acumulada\n",
    "revenue_grouped['cumulative_revenue'] = revenue_grouped.groupby('group')['revenue'].cumsum()\n",
    "\n",
    "print(revenue_grouped)\n",
    "\n",
    "plt.figure(figsize=(12, 6))\n",
    "\n",
    "# Criando o gráfico da receita acumulada\n",
    "for group in revenue_grouped['group'].unique():\n",
    "    plt.plot(revenue_grouped[revenue_grouped['group'] == group]['date'],\n",
    "             revenue_grouped[revenue_grouped['group'] == group]['cumulative_revenue'],\n",
    "             label=group)\n",
    "\n",
    "plt.title('Receita Acumulada por Grupo')\n",
    "plt.xlabel('Data')\n",
    "plt.ylabel('Receita Acumulada')\n",
    "plt.legend(title='Grupo')\n",
    "plt.grid()\n",
    "plt.xticks(rotation=45)\n",
    "plt.show()"
   ]
  },
  {
   "cell_type": "markdown",
   "metadata": {},
   "source": [
    "Com base nos dados apresentados da receita acumulada por grupo durante o teste A/B, podemos fazer algumas interpretações e observações importantes.\n",
    "\n",
    "No início do período analisado, em 1º de agosto de 2019, o grupo A começou com uma receita acumulada de 2356.8, enquanto o grupo B tinha 1620.0. Isso sugere que o grupo A estava inicialmente mais forte em termos de vendas. No entanto, com o passar dos dias, ambos os grupos mostraram crescimento em suas receitas acumuladas, mas a taxa de crescimento variou. Em 2 de agosto de 2019, o grupo A alcançou uma receita acumulada de 3860.3, enquanto o grupo B subiu para 4243.8. Aqui, podemos observar que o grupo B superou o grupo A em receita acumulada, indicando uma estratégia ou tática mais eficaz.\n",
    "\n",
    "Ao longo do mês, o grupo B continuou a acumular receitas significativamente mais altas em comparação ao grupo A. No final do período de teste, em 31 de agosto de 2019, o grupo A acumulou 64554.9, enquanto o grupo B atingiu 92840.6. Essa diferença total de receita acumulada é notável e indica que o grupo B teve um desempenho superior, acumulando uma receita consideravelmente maior ao longo do período de teste.\n",
    "\n",
    "A vantagem do grupo B pode sugerir que a abordagem adotada foi mais bem-sucedida em atrair e converter visitantes em compradores"
   ]
  },
  {
   "cell_type": "markdown",
   "metadata": {},
   "source": [
    "## Cálculo médio acumulado"
   ]
  },
  {
   "cell_type": "code",
   "execution_count": 130,
   "metadata": {},
   "outputs": [
    {
     "name": "stdout",
     "output_type": "stream",
     "text": [
      "  group     revenue\n",
      "0     A  115.897487\n",
      "1     B  145.063437\n"
     ]
    },
    {
     "data": {
      "image/png": "[encoded data removed]",
      "text/plain": [
       "<Figure size 800x500 with 1 Axes>"
      ]
     },
     "metadata": {},
     "output_type": "display_data"
    }
   ],
   "source": [
    "average_order_size = orders.groupby('group')['revenue'].mean().reset_index()\n",
    "print(average_order_size) \n",
    "\n",
    "plt.figure(figsize=(8, 5))\n",
    "plt.bar(average_order_size['group'], average_order_size['revenue'], color=['blue', 'orange'])\n",
    "plt.title('Average Order Size by Group')\n",
    "plt.xlabel('Group')\n",
    "plt.ylabel('Average Revenue')\n",
    "plt.xticks(rotation=45)\n",
    "plt.grid(axis='y')\n",
    "plt.show()"
   ]
  },
  {
   "cell_type": "code",
   "execution_count": 131,
   "metadata": {},
   "outputs": [
    {
     "data": {
      "image/png": "[encoded data removed]",
      "text/plain": [
       "<Figure size 1200x600 with 1 Axes>"
      ]
     },
     "metadata": {},
     "output_type": "display_data"
    }
   ],
   "source": [
    "orders['group'] = orders['group'].astype(object)\n",
    "visits['group'] = visits['group'].astype(object)\n",
    "\n",
    "# Criar um DataFrame de datas e grupos únicos para calcular os dados acumulados\n",
    "unique_dates_groups = orders[['date', 'group']].drop_duplicates()\n",
    "\n",
    "# Agregar dados cumulativos para `orders`\n",
    "orders_cumulative = unique_dates_groups.apply(\n",
    "    lambda row: orders[np.logical_and(orders['date'] <= row['date'], orders['group'] == row['group'])].agg({\n",
    "        'date': 'max',\n",
    "        'group': 'max',\n",
    "        'transaction_id': pd.Series.nunique,  # Número cumulativo de transações únicas\n",
    "        'visitor_id': pd.Series.nunique,      # Número cumulativo de visitantes únicos\n",
    "        'revenue': 'sum'                      # Receita cumulativa\n",
    "    }),\n",
    "    axis=1\n",
    ").sort_values(by=['date', 'group'])\n",
    "\n",
    "# Agregar dados cumulativos para `visits`\n",
    "visits_cumulative = unique_dates_groups.apply(\n",
    "    lambda row: visits[np.logical_and(visits['date'] <= row['date'], visits['group'] == row['group'])].agg({\n",
    "        'date': 'max',\n",
    "        'group': 'max',\n",
    "        'visits': 'sum'  # Número cumulativo de visitantes\n",
    "    }),\n",
    "    axis=1\n",
    ").sort_values(by=['date', 'group'])\n",
    "\n",
    "# Juntar dados cumulativos de `orders` e `visits`\n",
    "cumulative_data = orders_cumulative.merge(visits_cumulative, on=['date', 'group'])\n",
    "cumulative_data.columns = ['date', 'group', 'orders', 'unique_visitors', 'revenue', 'visits']\n",
    "\n",
    "# Separar dados por grupo para plotagem\n",
    "cumulative_revenue_A = cumulative_data[cumulative_data['group'] == 'A'][['date', 'revenue', 'orders']]\n",
    "cumulative_revenue_B = cumulative_data[cumulative_data['group'] == 'B'][['date', 'revenue', 'orders']]\n",
    "\n",
    "# Plotar o tamanho médio dos pedidos acumulado para os grupos A e B\n",
    "plt.figure(figsize=(12, 6))\n",
    "plt.plot(cumulative_revenue_A['date'], cumulative_revenue_A['revenue'] / cumulative_revenue_A['orders'], label='Tamanho Médio do Pedido - Grupo A', color='blue')\n",
    "plt.plot(cumulative_revenue_B['date'], cumulative_revenue_B['revenue'] / cumulative_revenue_B['orders'], label='Tamanho Médio do Pedido - Grupo B', color='orange')\n",
    "plt.xlabel('Data')\n",
    "plt.ylabel('Tamanho Médio do Pedido')\n",
    "plt.title('Tamanho Médio do Pedido ao Longo do Tempo por Grupo')\n",
    "plt.legend()\n",
    "plt.grid(axis='y')\n",
    "\n",
    "plt.show()\n",
    "\n"
   ]
  },
  {
   "cell_type": "markdown",
   "metadata": {},
   "source": [
    "O cálculo médio também mostra que o grupo B obteve uma receita maior do que o grupo A, indicando que as estratégias utilizadas no grupo B estão sendo mais eficazes do que as do grupo A."
   ]
  },
  {
   "cell_type": "code",
   "execution_count": 132,
   "metadata": {},
   "outputs": [
    {
     "name": "stdout",
     "output_type": "stream",
     "text": [
      "group                 A            B  relative_difference\n",
      "date                                                     \n",
      "2019-08-01    98.200000    77.142857           -21.443119\n",
      "2019-08-02   173.375000   186.467857             7.551756\n",
      "2019-08-03   249.008333   299.392857            20.234071\n",
      "2019-08-04   320.670833   400.410504            24.866518\n",
      "2019-08-05   400.194833   465.410504            16.295980\n",
      "2019-08-06   444.072611   601.353361            35.417800\n",
      "2019-08-07   568.678167   748.499195            31.620878\n",
      "2019-08-08   664.328167   877.676972            32.114972\n",
      "2019-08-09   848.521917   980.000972            15.495069\n",
      "2019-08-10  1054.034417  1054.800972             0.072726\n",
      "2019-08-11  1148.626724  1121.047126            -2.401093\n",
      "2019-08-12  1311.576724  1218.686257            -7.082351\n",
      "2019-08-13  1604.212439  1309.638638           -18.362518\n",
      "2019-08-14  1648.579105  1427.538638           -13.407938\n",
      "2019-08-15  1742.459105  1600.503154            -8.146874\n",
      "2019-08-16  1831.297994  1735.388154            -5.237260\n",
      "2019-08-17  1911.847994  1826.923868            -4.441992\n",
      "2019-08-18  1980.777406  1943.023868            -1.905996\n",
      "2019-08-19  2116.645588  2993.733392            41.437632\n",
      "2019-08-20  2219.337254  3109.963392            40.130275\n",
      "2019-08-21  2339.141602  3292.527678            40.757946\n",
      "2019-08-22  2450.597852  3394.959678            38.535977\n",
      "2019-08-23  2526.117852  3514.926344            39.143403\n",
      "2019-08-24  2659.631186  3610.376344            35.747256\n",
      "2019-08-25  2767.521186  3726.554916            34.653167\n",
      "2019-08-26  2921.571186  3842.570916            31.524124\n",
      "2019-08-27  3082.681900  3987.558416            29.353548\n",
      "2019-08-28  3176.952488  4043.201273            27.266658\n",
      "2019-08-29  3404.020670  4224.386273            24.099901\n",
      "2019-08-30  3528.047943  4365.773773            23.744741\n",
      "2019-08-31  3610.664609  4470.988773            23.827308\n"
     ]
    },
    {
     "data": {
      "image/png": "[encoded data removed]",
      "text/plain": [
       "<Figure size 1200x600 with 1 Axes>"
      ]
     },
     "metadata": {},
     "output_type": "display_data"
    }
   ],
   "source": [
    "\n",
    "# Calcular o número de itens por pedido usando 'transaction_id'\n",
    "orders['num_items'] = orders.groupby('transaction_id')['transaction_id'].transform('count')\n",
    "\n",
    "# Calcular o tamanho médio do pedido por data e grupo\n",
    "orders['order_size'] = orders['revenue'] / orders['num_items']\n",
    "\n",
    "# Calcular o tamanho médio acumulado do pedido por data e grupo\n",
    "orders['group'] = orders['group'].astype(object)\n",
    "cumulative_average_order_size = orders.groupby(['group', 'date'])['order_size'].mean().groupby(level=0).cumsum().reset_index()\n",
    "\n",
    "# Pivotar os dados para ter uma coluna para cada grupo\n",
    "cumulative_average_order_size_pivot = cumulative_average_order_size.pivot(index='date', columns='group', values='order_size').fillna(0)\n",
    "\n",
    "# Resetar o índice para garantir que `group` e `date` não sejam tratados como categorias\n",
    "cumulative_average_order_size_pivot = cumulative_average_order_size_pivot.reset_index()\n",
    "\n",
    "# Calcular a diferença relativa no tamanho médio acumulado do pedido para o grupo B em comparação com o grupo A\n",
    "cumulative_average_order_size_pivot['relative_difference'] = (\n",
    "    (cumulative_average_order_size_pivot['B'] - cumulative_average_order_size_pivot['A']) /\n",
    "    cumulative_average_order_size_pivot['A']\n",
    ") * 100  # Multiplicando por 100 para obter a diferença em percentual\n",
    "\n",
    "# Configurar o índice de volta para 'date' para fins de plotagem\n",
    "cumulative_average_order_size_pivot.set_index('date', inplace=True)\n",
    "\n",
    "print(cumulative_average_order_size_pivot)\n",
    "\n",
    "# Fazer o gráfico da diferença relativa no tamanho médio acumulado do pedido\n",
    "plt.figure(figsize=(12, 6))\n",
    "plt.plot(cumulative_average_order_size_pivot.index, cumulative_average_order_size_pivot['relative_difference'], color='purple', marker='o', label=\"Diferença Relativa\")\n",
    "plt.title('Diferença Relativa no Tamanho Médio Acumulado do Pedido para o Grupo B em Comparação com o Grupo A')\n",
    "plt.xlabel('Data')\n",
    "plt.ylabel('Diferença Relativa (%)')\n",
    "plt.axhline(0, color='gray', linestyle='--')  # Linha horizontal em 0\n",
    "plt.grid(axis='y')\n",
    "plt.xticks(rotation=45)\n",
    "plt.legend()\n",
    "plt.tight_layout()\n",
    "plt.show()"
   ]
  },
  {
   "cell_type": "markdown",
   "metadata": {},
   "source": [
    "### Cálculo de taxa de conversão"
   ]
  },
  {
   "cell_type": "code",
   "execution_count": 133,
   "metadata": {},
   "outputs": [
    {
     "name": "stdout",
     "output_type": "stream",
     "text": [
      "         date group  orders  visits  conversion_rate\n",
      "0  2019-08-01     A      24     719         3.337969\n",
      "1  2019-08-01     B      21     713         2.945302\n",
      "2  2019-08-02     A      20     619         3.231018\n",
      "3  2019-08-02     B      24     581         4.130809\n",
      "4  2019-08-03     A      24     507         4.733728\n",
      "..        ...   ...     ...     ...              ...\n",
      "57 2019-08-29     B      20     531         3.766478\n",
      "58 2019-08-30     A      11     490         2.244898\n",
      "59 2019-08-30     B      24     490         4.897959\n",
      "60 2019-08-31     A      12     699         1.716738\n",
      "61 2019-08-31     B      20     718         2.785515\n",
      "\n",
      "[62 rows x 5 columns]\n"
     ]
    },
    {
     "data": {
      "image/png": "[encoded data removed]",
      "text/plain": [
       "<Figure size 1400x700 with 1 Axes>"
      ]
     },
     "metadata": {},
     "output_type": "display_data"
    }
   ],
   "source": [
    "# Agrupar os pedidos por data e grupo\n",
    "orders_grouped = orders.groupby(['date', 'group']).size().reset_index(name='orders')\n",
    "\n",
    "# Agrupar as visitas por data e grupo\n",
    "visits_grouped = visits.groupby(['date', 'group'])['visits'].sum().reset_index()\n",
    "\n",
    "# Unir os dois DataFrames\n",
    "merged_data = pd.merge(orders_grouped, visits_grouped, on=['date', 'group'])\n",
    "\n",
    "# Calcular a taxa de conversão\n",
    "merged_data['conversion_rate'] = (merged_data['orders'] / merged_data['visits']) * 100\n",
    "\n",
    "print(merged_data)\n",
    "\n",
    "# Traçar as taxas de conversão\n",
    "plt.figure(figsize=(14, 7))\n",
    "for group in merged_data['group'].unique():\n",
    "    plt.plot(merged_data[merged_data['group'] == group]['date'], \n",
    "             merged_data[merged_data['group'] == group]['conversion_rate'], \n",
    "             marker='o', label=f'Group {group}')\n",
    "\n",
    "plt.title('Taxa de Conversão Diária por Grupo')\n",
    "plt.xlabel('Data')\n",
    "plt.ylabel('Taxa de Conversão (%)')\n",
    "plt.legend()\n",
    "plt.xticks(rotation=45)\n",
    "plt.grid()\n",
    "plt.tight_layout()\n",
    "plt.show()"
   ]
  },
  {
   "cell_type": "markdown",
   "metadata": {},
   "source": [
    "No ínicio de agosto, a taxa de conversão entre um grupo e outro não mostra tanta variação, tendo similaridades entre ambos. Mas no fim do mês, o grupo B está liderando a taxa de conversão. Em um contexto geral, o número de pedidos feitos é muito menor do que o número de visitas que o site recebe, ou seja, há algo que deve ser melhorado com a intenção de aumentar a clientela. De qualquer maneira, a estratégia do grupo B parece ser mais eficaz do que a do grupo A."
   ]
  },
  {
   "cell_type": "code",
   "execution_count": 134,
   "metadata": {},
   "outputs": [
    {
     "name": "stdout",
     "output_type": "stream",
     "text": [
      "[-11.76367461   7.7199621   -9.58341447  -8.17862274  -6.89152699\n",
      "   2.12668176   4.5022437   10.0612309   14.57744963  20.03186462\n",
      "  18.9201506   17.41744173  18.77729411  16.90473374  23.3829331\n",
      "  20.75604497  21.5106022   18.09729184  16.63879369  18.49430457\n",
      "  15.27964751  16.4911158   11.71821667  11.70560877  12.04188058\n",
      "  13.55265116  10.886623    12.15644134  11.59650724  14.16105479\n",
      "  15.03002376]\n"
     ]
    },
    {
     "data": {
      "image/png": "[encoded data removed]",
      "text/plain": [
       "<Figure size 1400x800 with 1 Axes>"
      ]
     },
     "metadata": {},
     "output_type": "display_data"
    }
   ],
   "source": [
    "# Cálculo da taxa de conversão cumulativa por grupo\n",
    "orders_by_date_group = orders.groupby(['date', 'group']).agg({'transaction_id': 'count'}).rename(columns={'transaction_id': 'orders'})\n",
    "visits_by_date_group = visits.groupby(['date', 'group']).agg({'visits': 'sum'})\n",
    "\n",
    "# Juntando as duas tabelas\n",
    "cumulative_data = orders_by_date_group.join(visits_by_date_group).reset_index()\n",
    "\n",
    "# Criando coluna de taxa de conversão\n",
    "cumulative_data['conversion'] = cumulative_data['orders'] / cumulative_data['visits']\n",
    "\n",
    "# Separando os dados por grupo e calculando a conversão cumulativa para cada data\n",
    "cumulative_data_A = cumulative_data[cumulative_data['group'] == 'A'].sort_values(by='date').copy()\n",
    "cumulative_data_B = cumulative_data[cumulative_data['group'] == 'B'].sort_values(by='date').copy()\n",
    "\n",
    "cumulative_data_A['cumulative_conversion'] = cumulative_data_A['conversion'].cumsum()\n",
    "cumulative_data_B['cumulative_conversion'] = cumulative_data_B['conversion'].cumsum()\n",
    "\n",
    "# Calculando a diferença relativa entre as conversões cumulativas dos grupos B e A\n",
    "relative_difference = ((cumulative_data_B['cumulative_conversion'].values - \n",
    "                        cumulative_data_A['cumulative_conversion'].values) / \n",
    "                        cumulative_data_A['cumulative_conversion'].values) * 100\n",
    "\n",
    "print(relative_difference)\n",
    "\n",
    "# Plotando os gráficos\n",
    "plt.figure(figsize=(14, 8))\n",
    "\n",
    "# Conversões cumulativas para o grupo A e B\n",
    "plt.plot(cumulative_data_A['date'], cumulative_data_A['cumulative_conversion'], label='Grupo A', color='blue')\n",
    "plt.plot(cumulative_data_B['date'], cumulative_data_B['cumulative_conversion'], label='Grupo B', color='red')\n",
    "\n",
    "\n",
    "# Diferença relativa entre os grupos\n",
    "plt.plot(cumulative_data_A['date'], relative_difference, label='Diferença Relativa (B vs A)', color='green', linestyle='--')\n",
    "\n",
    "# Configurações do gráfico\n",
    "plt.xlabel('Data')\n",
    "plt.ylabel('Conversão Cumulativa')\n",
    "plt.title('Conversão Cumulativa por Grupo e Diferença Relativa')\n",
    "plt.legend()\n",
    "plt.grid(True)\n",
    "plt.xticks(rotation=45)\n",
    "plt.tight_layout()\n",
    "plt.show()"
   ]
  },
  {
   "cell_type": "markdown",
   "metadata": {},
   "source": [
    "Aparentemente os valores estão negativos para mostrar que em determinadas datas, o grupo B apresentou desempenho inferior ao grupo A. No gráfico, a flutuação da linha relativa sugere que precisa de mais testes."
   ]
  },
  {
   "cell_type": "code",
   "execution_count": 135,
   "metadata": {},
   "outputs": [
    {
     "name": "stdout",
     "output_type": "stream",
     "text": [
      "Percentil 95: 2.0\n",
      "Percentil 99: 4.0\n"
     ]
    }
   ],
   "source": [
    "orders_per_visitor = orders.groupby('visitor_id')['transaction_id'].count().reset_index()\n",
    "orders_per_visitor.columns = ['visitor_id', 'orders_count']\n",
    "\n",
    "# Calcular percentis 95 e 99\n",
    "percentile_95 = orders_per_visitor['orders_count'].quantile(0.95)\n",
    "percentile_99 = orders_per_visitor['orders_count'].quantile(0.99)\n",
    "\n",
    "print(f'Percentil 95: {percentile_95}')\n",
    "print(f'Percentil 99: {percentile_99}')\n"
   ]
  },
  {
   "cell_type": "markdown",
   "metadata": {},
   "source": [
    "O percentil 99 pode indicar uma anomalia, já que são visitantes fazendo mais de 4 pedidos. Pode se tratar de clientes leais ou boas estratégias de marketing."
   ]
  },
  {
   "cell_type": "code",
   "execution_count": 136,
   "metadata": {},
   "outputs": [
    {
     "name": "stdout",
     "output_type": "stream",
     "text": [
      "Percentil 95 da Receita: 435.54\n",
      "Percentil 99 da Receita: 900.9039999999999\n"
     ]
    }
   ],
   "source": [
    "revenue_percentile_95 = orders['revenue'].quantile(0.95)\n",
    "revenue_percentile_99 = orders['revenue'].quantile(0.99)\n",
    "\n",
    "print(f'Percentil 95 da Receita: {revenue_percentile_95}')\n",
    "print(f'Percentil 99 da Receita: {revenue_percentile_99}')\n"
   ]
  },
  {
   "cell_type": "markdown",
   "metadata": {},
   "source": [
    "O percentil de 99 da receita indica que apenas 1% de receita está acima do valor citado, podendo indicar uma anomalia"
   ]
  },
  {
   "cell_type": "code",
   "execution_count": 137,
   "metadata": {},
   "outputs": [
    {
     "name": "stdout",
     "output_type": "stream",
     "text": [
      "Valor de p: 1.0\n"
     ]
    }
   ],
   "source": [
    "from scipy import stats\n",
    "# significância estatística da diferença na conversão entre os grupos usando os dados brutos.  \n",
    "# Criar tabela de contingência\n",
    "contingency_table = pd.crosstab(orders['group'], orders['visitor_id'].isin(orders['visitor_id']))\n",
    "\n",
    "# Teste qui-quadrado\n",
    "chi2, p, _, _ = stats.chi2_contingency(contingency_table)\n",
    "print(f'Valor de p: {p}')"
   ]
  },
  {
   "cell_type": "markdown",
   "metadata": {},
   "source": [
    " Isso sugere que a variação do teste A/B não teve efeito notável sobre a taxa de conversão. A variação testada pode não ter sido suficientemente diferente ou atrativa para impactar o comportamento dos usuários."
   ]
  },
  {
   "cell_type": "code",
   "execution_count": 138,
   "metadata": {},
   "outputs": [
    {
     "name": "stdout",
     "output_type": "stream",
     "text": [
      "Tamanho médio do grupo A: 115.89748653500898\n",
      "Tamanho médio do grupo B: 145.06343750000002\n",
      "Valor de p para o teste t: 0.3745072295652421\n"
     ]
    }
   ],
   "source": [
    " # significância estatística da diferença no tamanho médio do pedido entre os grupos usando os dados brutos.\n",
    "mean_revenue_a = orders[orders['group'] == 'A']['revenue'].mean()\n",
    "mean_revenue_b = orders[orders['group'] == 'B']['revenue'].mean()\n",
    "\n",
    "t_stat, p_value = stats.ttest_ind(\n",
    "    orders[orders['group'] == 'A']['revenue'],\n",
    "    orders[orders['group'] == 'B']['revenue'],\n",
    "    equal_var=False\n",
    ")\n",
    "\n",
    "print(f'Tamanho médio do grupo A: {mean_revenue_a}')\n",
    "print(f'Tamanho médio do grupo B: {mean_revenue_b}')\n",
    "print(f'Valor de p para o teste t: {p_value}')"
   ]
  },
  {
   "cell_type": "markdown",
   "metadata": {},
   "source": [
    "A diferença no tamanho médio dos pedidos entre os grupos A e B não é estatisticamente significativa. Isso sugere que a variação testada não resultou em um aumento confiável no tamanho médio dos pedidos em comparação com o grupo de controle.A variação aplicada ao grupo B pode não ter sido suficientemente impactante para aumentar o valor médio do pedido de forma significativa."
   ]
  },
  {
   "cell_type": "code",
   "execution_count": 140,
   "metadata": {},
   "outputs": [
    {
     "name": "stdout",
     "output_type": "stream",
     "text": [
      "Z-score (filtrado): -2.4168487558326905\n",
      "P-valor (filtrado): 0.015655520637817673\n"
     ]
    }
   ],
   "source": [
    "import pandas as pd\n",
    "from statsmodels.stats.proportion import proportions_ztest\n",
    "\n",
    "# Calculando o número de pedidos por visitante\n",
    "orders_per_visitor = orders.groupby('visitor_id')['transaction_id'].count().reset_index()\n",
    "orders_per_visitor.columns = ['visitor_id', 'orders_count']\n",
    "\n",
    "# Calcular percentis 95 e 99\n",
    "percentile_95 = orders_per_visitor['orders_count'].quantile(0.95)\n",
    "percentile_99 = orders_per_visitor['orders_count'].quantile(0.99)\n",
    "\n",
    "# Filtrando os dados para remover usuários com um número excessivo de pedidos (percentil 95 ou 99)\n",
    "orders_filtered = orders_per_visitor[orders_per_visitor['orders_count'] <= percentile_99]  # ou percentile_95\n",
    "\n",
    "# Recalculando as conversões e visitas para cada grupo\n",
    "A_conversions_filtered = orders_filtered[orders_filtered['visitor_id'].isin(orders[orders['group'] == 'A']['visitor_id'])].shape[0]\n",
    "B_conversions_filtered = orders_filtered[orders_filtered['visitor_id'].isin(orders[orders['group'] == 'B']['visitor_id'])].shape[0]\n",
    "A_visits_filtered = visits[visits['group'] == 'A']['visits'].sum()\n",
    "B_visits_filtered = visits[visits['group'] == 'B']['visits'].sum()\n",
    "\n",
    "# Aplicando o teste de proporções aos dados filtrados\n",
    "z_score_filtered, p_value_filtered = proportions_ztest([A_conversions_filtered, B_conversions_filtered], \n",
    "                                                       [A_visits_filtered, B_visits_filtered])\n",
    "\n",
    "print(f\"Z-score (filtrado): {z_score_filtered}\")\n",
    "print(f\"P-valor (filtrado): {p_value_filtered}\")"
   ]
  },
  {
   "cell_type": "markdown",
   "metadata": {},
   "source": [
    "O grupo B apresenta uma taxa de conversão inferior à do grupo A."
   ]
  },
  {
   "cell_type": "code",
   "execution_count": 141,
   "metadata": {},
   "outputs": [
    {
     "name": "stdout",
     "output_type": "stream",
     "text": [
      "Tamanho médio do grupo A: 115.89748653500898\n",
      "Tamanho médio do grupo B: 145.06343750000002\n",
      "Estatística t: -0.8345854854522999\n",
      "Valor de p: 0.4041179448526676\n"
     ]
    }
   ],
   "source": [
    "# Filtrando os dados para remover usuários com um número excessivo de pedidos\n",
    "orders_per_visitor = orders.groupby('visitor_id')['transaction_id'].count().reset_index()\n",
    "orders_per_visitor.columns = ['visitor_id', 'orders_count']\n",
    "percentile_95 = orders_per_visitor['orders_count'].quantile(0.95)\n",
    "\n",
    "# Filtrar os pedidos para manter apenas aqueles cujo número de pedidos está abaixo do percentil 95\n",
    "filtered_orders = orders_per_visitor[orders_per_visitor['orders_count'] <= percentile_95]\n",
    "\n",
    "# Calcular o tamanho médio do pedido para cada grupo\n",
    "grouped_orders = orders.groupby('group')['revenue'].mean().reset_index()\n",
    "\n",
    "# Extraindo os dados para cada grupo\n",
    "group_A_orders = orders[orders['group'] == 'A']['revenue']\n",
    "group_B_orders = orders[orders['group'] == 'B']['revenue']\n",
    "\n",
    "# Realizar o teste t\n",
    "t_statistic, p_value = stats.ttest_ind(group_A_orders, group_B_orders)\n",
    "\n",
    "# Resultados\n",
    "mean_A = group_A_orders.mean()\n",
    "mean_B = group_B_orders.mean()\n",
    "\n",
    "print(f'Tamanho médio do grupo A: {mean_A}')\n",
    "print(f'Tamanho médio do grupo B: {mean_B}')\n",
    "print(f'Estatística t: {t_statistic}')\n",
    "print(f'Valor de p: {p_value}')"
   ]
  },
  {
   "cell_type": "markdown",
   "metadata": {},
   "source": [
    "Os dados atuais não suportam a conclusão de que há uma diferença significativa entre os tamanhos dos pedidos dos grupos A e B"
   ]
  },
  {
   "cell_type": "markdown",
   "metadata": {},
   "source": [
    "# 1.6 Decisão"
   ]
  },
  {
   "cell_type": "markdown",
   "metadata": {},
   "source": [
    "Antes de testar estatisticamente, os resultados estavam mostrando em grande parte que o grupo B era mais bem sucedido que o grupo A, mas a partir da flutuação de linha do gráfico de conversão cumulativa por grupo e diferença relativa, foi possível observar que essa discrepância deveria ser analisada mais de perto. Ao fazer os testes estatísticos, ficou claro que não há uma diferença significativa entre os grupos de acordo com os dados apresentados, podendo indicar que as hipóteses precisam ser ajustadas a fim de se tornarem mais relevantes e impactantes.   "
   ]
  }
 ],
 "metadata": {
  "ExecuteTimeLog": [
   {
    "duration": 2918,
    "start_time": "2024-10-28T18:41:00.126Z"
   },
   {
    "duration": 23,
    "start_time": "2024-10-28T18:43:35.372Z"
   },
   {
    "duration": 9,
    "start_time": "2024-10-28T18:43:45.053Z"
   },
   {
    "duration": 19,
    "start_time": "2024-10-28T18:43:58.522Z"
   },
   {
    "duration": 7,
    "start_time": "2024-10-28T18:49:03.374Z"
   },
   {
    "duration": 9,
    "start_time": "2024-10-28T18:49:21.933Z"
   },
   {
    "duration": 5,
    "start_time": "2024-10-28T18:49:31.553Z"
   },
   {
    "duration": 8,
    "start_time": "2024-10-28T18:52:01.756Z"
   },
   {
    "duration": 256,
    "start_time": "2024-10-28T18:53:55.831Z"
   },
   {
    "duration": 9,
    "start_time": "2024-10-28T18:54:07.156Z"
   },
   {
    "duration": 8,
    "start_time": "2024-10-28T18:54:20.502Z"
   },
   {
    "duration": 8,
    "start_time": "2024-10-28T18:54:25.534Z"
   },
   {
    "duration": 9,
    "start_time": "2024-10-28T18:54:34.932Z"
   },
   {
    "duration": 16,
    "start_time": "2024-10-28T19:01:48.935Z"
   },
   {
    "duration": 14,
    "start_time": "2024-10-28T19:03:59.236Z"
   },
   {
    "duration": 2,
    "start_time": "2024-10-28T19:04:14.890Z"
   },
   {
    "duration": 15,
    "start_time": "2024-10-28T19:04:15.586Z"
   },
   {
    "duration": 7,
    "start_time": "2024-10-28T19:04:15.968Z"
   },
   {
    "duration": 15,
    "start_time": "2024-10-28T19:04:16.449Z"
   },
   {
    "duration": 15,
    "start_time": "2024-10-28T19:04:17.044Z"
   },
   {
    "duration": 14,
    "start_time": "2024-10-28T19:04:40.488Z"
   },
   {
    "duration": 15,
    "start_time": "2024-10-28T19:05:18.321Z"
   },
   {
    "duration": 13,
    "start_time": "2024-10-28T19:05:41.982Z"
   },
   {
    "duration": 18,
    "start_time": "2024-10-28T19:09:29.098Z"
   },
   {
    "duration": 16,
    "start_time": "2024-10-28T19:09:51.488Z"
   },
   {
    "duration": 3,
    "start_time": "2024-10-28T19:12:52.371Z"
   },
   {
    "duration": 13,
    "start_time": "2024-10-28T19:12:53.004Z"
   },
   {
    "duration": 8,
    "start_time": "2024-10-28T19:12:53.335Z"
   },
   {
    "duration": 13,
    "start_time": "2024-10-28T19:12:53.678Z"
   },
   {
    "duration": 3,
    "start_time": "2024-10-28T19:12:54.630Z"
   },
   {
    "duration": 15,
    "start_time": "2024-10-28T19:12:56.023Z"
   },
   {
    "duration": 5,
    "start_time": "2024-10-28T19:13:46.644Z"
   },
   {
    "duration": 5,
    "start_time": "2024-10-28T19:14:30.705Z"
   },
   {
    "duration": 3,
    "start_time": "2024-10-28T19:14:46.829Z"
   },
   {
    "duration": 11,
    "start_time": "2024-10-28T19:14:47.492Z"
   },
   {
    "duration": 7,
    "start_time": "2024-10-28T19:14:48.134Z"
   },
   {
    "duration": 5,
    "start_time": "2024-10-28T19:14:48.794Z"
   },
   {
    "duration": 11,
    "start_time": "2024-10-28T19:15:04.067Z"
   },
   {
    "duration": 17,
    "start_time": "2024-10-28T19:15:32.276Z"
   },
   {
    "duration": 6,
    "start_time": "2024-10-28T19:15:32.539Z"
   },
   {
    "duration": 5,
    "start_time": "2024-10-28T19:15:45.018Z"
   },
   {
    "duration": 394,
    "start_time": "2024-10-28T19:18:23.237Z"
   },
   {
    "duration": 45,
    "start_time": "2024-10-28T19:18:41.311Z"
   },
   {
    "duration": 4,
    "start_time": "2024-10-28T19:19:02.807Z"
   },
   {
    "duration": 14,
    "start_time": "2024-10-28T19:19:03.575Z"
   },
   {
    "duration": 8,
    "start_time": "2024-10-28T19:19:03.955Z"
   },
   {
    "duration": 11,
    "start_time": "2024-10-28T19:19:04.310Z"
   },
   {
    "duration": 4,
    "start_time": "2024-10-28T19:19:04.673Z"
   },
   {
    "duration": 16,
    "start_time": "2024-10-28T19:19:05.375Z"
   },
   {
    "duration": 5,
    "start_time": "2024-10-28T19:19:05.819Z"
   },
   {
    "duration": 5,
    "start_time": "2024-10-28T19:19:13.921Z"
   },
   {
    "duration": 42,
    "start_time": "2024-10-28T19:19:22.109Z"
   },
   {
    "duration": 3,
    "start_time": "2024-10-28T19:19:30.065Z"
   },
   {
    "duration": 18,
    "start_time": "2024-10-28T19:19:30.492Z"
   },
   {
    "duration": 7,
    "start_time": "2024-10-28T19:19:30.802Z"
   },
   {
    "duration": 11,
    "start_time": "2024-10-28T19:19:31.122Z"
   },
   {
    "duration": 3,
    "start_time": "2024-10-28T19:19:31.420Z"
   },
   {
    "duration": 16,
    "start_time": "2024-10-28T19:19:32.192Z"
   },
   {
    "duration": 5,
    "start_time": "2024-10-28T19:19:32.604Z"
   },
   {
    "duration": 6,
    "start_time": "2024-10-28T19:19:33.243Z"
   },
   {
    "duration": 44,
    "start_time": "2024-10-28T19:19:34.102Z"
   },
   {
    "duration": 42,
    "start_time": "2024-10-28T19:21:49.466Z"
   },
   {
    "duration": 45,
    "start_time": "2024-10-28T19:21:59.042Z"
   },
   {
    "duration": 2,
    "start_time": "2024-10-28T19:22:11.684Z"
   },
   {
    "duration": 11,
    "start_time": "2024-10-28T19:22:12.109Z"
   },
   {
    "duration": 8,
    "start_time": "2024-10-28T19:22:12.386Z"
   },
   {
    "duration": 13,
    "start_time": "2024-10-28T19:22:12.724Z"
   },
   {
    "duration": 3,
    "start_time": "2024-10-28T19:22:13.191Z"
   },
   {
    "duration": 17,
    "start_time": "2024-10-28T19:22:14.484Z"
   },
   {
    "duration": 6,
    "start_time": "2024-10-28T19:22:15.170Z"
   },
   {
    "duration": 6,
    "start_time": "2024-10-28T19:22:15.763Z"
   },
   {
    "duration": 44,
    "start_time": "2024-10-28T19:22:16.441Z"
   },
   {
    "duration": 41,
    "start_time": "2024-10-28T19:23:54.141Z"
   },
   {
    "duration": 5,
    "start_time": "2024-10-28T19:24:06.408Z"
   },
   {
    "duration": 9,
    "start_time": "2024-10-28T19:25:07.455Z"
   },
   {
    "duration": 14,
    "start_time": "2024-10-28T19:26:16.701Z"
   },
   {
    "duration": 5,
    "start_time": "2024-10-28T19:27:44.520Z"
   },
   {
    "duration": 7,
    "start_time": "2024-10-28T19:29:56.416Z"
   },
   {
    "duration": 5,
    "start_time": "2024-10-28T19:33:44.887Z"
   },
   {
    "duration": 6,
    "start_time": "2024-10-28T19:34:04.608Z"
   },
   {
    "duration": 4,
    "start_time": "2024-10-28T19:41:04.440Z"
   },
   {
    "duration": 5,
    "start_time": "2024-10-28T19:41:19.614Z"
   },
   {
    "duration": 4,
    "start_time": "2024-10-28T19:41:31.107Z"
   },
   {
    "duration": 4,
    "start_time": "2024-10-28T19:41:41.791Z"
   },
   {
    "duration": 5,
    "start_time": "2024-10-28T19:46:04.743Z"
   },
   {
    "duration": 3,
    "start_time": "2024-10-28T19:47:08.858Z"
   },
   {
    "duration": 5,
    "start_time": "2024-10-28T19:48:40.065Z"
   },
   {
    "duration": 4,
    "start_time": "2024-10-28T19:51:02.906Z"
   },
   {
    "duration": 14,
    "start_time": "2024-10-28T19:51:03.555Z"
   },
   {
    "duration": 8,
    "start_time": "2024-10-28T19:51:03.836Z"
   },
   {
    "duration": 12,
    "start_time": "2024-10-28T19:51:04.175Z"
   },
   {
    "duration": 3,
    "start_time": "2024-10-28T19:51:04.492Z"
   },
   {
    "duration": 19,
    "start_time": "2024-10-28T19:51:05.159Z"
   },
   {
    "duration": 5,
    "start_time": "2024-10-28T19:51:05.477Z"
   },
   {
    "duration": 9,
    "start_time": "2024-10-28T19:51:05.795Z"
   },
   {
    "duration": 17,
    "start_time": "2024-10-28T19:51:06.098Z"
   },
   {
    "duration": 8,
    "start_time": "2024-10-28T19:51:06.396Z"
   },
   {
    "duration": 7,
    "start_time": "2024-10-28T19:51:07.580Z"
   },
   {
    "duration": 3,
    "start_time": "2024-10-28T19:51:08.784Z"
   },
   {
    "duration": 4,
    "start_time": "2024-10-28T19:51:09.121Z"
   },
   {
    "duration": 5,
    "start_time": "2024-10-28T19:51:09.460Z"
   },
   {
    "duration": 4,
    "start_time": "2024-10-28T19:51:09.751Z"
   },
   {
    "duration": 4,
    "start_time": "2024-10-28T19:51:10.678Z"
   },
   {
    "duration": 6,
    "start_time": "2024-10-28T19:51:24.741Z"
   },
   {
    "duration": 291,
    "start_time": "2024-10-28T20:28:27.703Z"
   },
   {
    "duration": 44,
    "start_time": "2024-10-28T20:28:55.039Z"
   },
   {
    "duration": 3,
    "start_time": "2024-10-28T20:29:17.512Z"
   },
   {
    "duration": 16,
    "start_time": "2024-10-28T20:29:18.207Z"
   },
   {
    "duration": 8,
    "start_time": "2024-10-28T20:29:18.552Z"
   },
   {
    "duration": 10,
    "start_time": "2024-10-28T20:29:18.861Z"
   },
   {
    "duration": 3,
    "start_time": "2024-10-28T20:29:19.133Z"
   },
   {
    "duration": 17,
    "start_time": "2024-10-28T20:29:19.761Z"
   },
   {
    "duration": 6,
    "start_time": "2024-10-28T20:29:20.079Z"
   },
   {
    "duration": 9,
    "start_time": "2024-10-28T20:29:20.420Z"
   },
   {
    "duration": 15,
    "start_time": "2024-10-28T20:29:20.795Z"
   },
   {
    "duration": 8,
    "start_time": "2024-10-28T20:29:21.175Z"
   },
   {
    "duration": 7,
    "start_time": "2024-10-28T20:29:21.861Z"
   },
   {
    "duration": 4,
    "start_time": "2024-10-28T20:29:22.453Z"
   },
   {
    "duration": 5,
    "start_time": "2024-10-28T20:29:22.719Z"
   },
   {
    "duration": 7,
    "start_time": "2024-10-28T20:29:22.967Z"
   },
   {
    "duration": 4,
    "start_time": "2024-10-28T20:29:23.215Z"
   },
   {
    "duration": 4,
    "start_time": "2024-10-28T20:29:23.785Z"
   },
   {
    "duration": 6,
    "start_time": "2024-10-28T20:29:24.045Z"
   },
   {
    "duration": 43,
    "start_time": "2024-10-28T20:29:27.247Z"
   },
   {
    "duration": 119,
    "start_time": "2024-10-28T20:31:08.861Z"
   },
   {
    "duration": 14,
    "start_time": "2024-10-28T20:31:52.430Z"
   },
   {
    "duration": 14,
    "start_time": "2024-10-28T20:32:02.425Z"
   },
   {
    "duration": 3,
    "start_time": "2024-10-28T20:32:08.885Z"
   },
   {
    "duration": 3,
    "start_time": "2024-10-28T20:32:47.477Z"
   },
   {
    "duration": 11,
    "start_time": "2024-10-28T20:32:47.955Z"
   },
   {
    "duration": 8,
    "start_time": "2024-10-28T20:32:48.282Z"
   },
   {
    "duration": 11,
    "start_time": "2024-10-28T20:32:48.624Z"
   },
   {
    "duration": 4,
    "start_time": "2024-10-28T20:32:48.955Z"
   },
   {
    "duration": 17,
    "start_time": "2024-10-28T20:32:49.682Z"
   },
   {
    "duration": 5,
    "start_time": "2024-10-28T20:32:49.985Z"
   },
   {
    "duration": 8,
    "start_time": "2024-10-28T20:32:50.238Z"
   },
   {
    "duration": 15,
    "start_time": "2024-10-28T20:32:50.559Z"
   },
   {
    "duration": 7,
    "start_time": "2024-10-28T20:32:50.792Z"
   },
   {
    "duration": 6,
    "start_time": "2024-10-28T20:32:51.283Z"
   },
   {
    "duration": 3,
    "start_time": "2024-10-28T20:32:51.752Z"
   },
   {
    "duration": 5,
    "start_time": "2024-10-28T20:32:51.995Z"
   },
   {
    "duration": 4,
    "start_time": "2024-10-28T20:32:52.243Z"
   },
   {
    "duration": 4,
    "start_time": "2024-10-28T20:32:52.483Z"
   },
   {
    "duration": 4,
    "start_time": "2024-10-28T20:32:52.936Z"
   },
   {
    "duration": 5,
    "start_time": "2024-10-28T20:32:53.155Z"
   },
   {
    "duration": 47,
    "start_time": "2024-10-28T20:32:53.836Z"
   },
   {
    "duration": 32,
    "start_time": "2024-10-28T20:32:54.049Z"
   },
   {
    "duration": 3,
    "start_time": "2024-10-28T20:32:54.280Z"
   },
   {
    "duration": 31,
    "start_time": "2024-10-28T20:33:25.668Z"
   },
   {
    "duration": 4,
    "start_time": "2024-10-28T20:33:48.832Z"
   },
   {
    "duration": 50,
    "start_time": "2024-10-28T20:36:21.297Z"
   },
   {
    "duration": 46,
    "start_time": "2024-10-28T20:36:36.851Z"
   },
   {
    "duration": 45,
    "start_time": "2024-10-28T20:36:51.694Z"
   },
   {
    "duration": 2,
    "start_time": "2024-10-28T20:37:21.470Z"
   },
   {
    "duration": 10,
    "start_time": "2024-10-28T20:37:21.817Z"
   },
   {
    "duration": 8,
    "start_time": "2024-10-28T20:37:21.983Z"
   },
   {
    "duration": 11,
    "start_time": "2024-10-28T20:37:22.149Z"
   },
   {
    "duration": 3,
    "start_time": "2024-10-28T20:37:22.330Z"
   },
   {
    "duration": 16,
    "start_time": "2024-10-28T20:37:22.661Z"
   },
   {
    "duration": 4,
    "start_time": "2024-10-28T20:37:22.834Z"
   },
   {
    "duration": 9,
    "start_time": "2024-10-28T20:37:23.021Z"
   },
   {
    "duration": 15,
    "start_time": "2024-10-28T20:37:23.189Z"
   },
   {
    "duration": 9,
    "start_time": "2024-10-28T20:37:23.355Z"
   },
   {
    "duration": 6,
    "start_time": "2024-10-28T20:37:23.712Z"
   },
   {
    "duration": 4,
    "start_time": "2024-10-28T20:37:24.072Z"
   },
   {
    "duration": 4,
    "start_time": "2024-10-28T20:37:24.243Z"
   },
   {
    "duration": 5,
    "start_time": "2024-10-28T20:37:24.416Z"
   },
   {
    "duration": 4,
    "start_time": "2024-10-28T20:37:24.615Z"
   },
   {
    "duration": 4,
    "start_time": "2024-10-28T20:37:24.979Z"
   },
   {
    "duration": 5,
    "start_time": "2024-10-28T20:37:25.171Z"
   },
   {
    "duration": 46,
    "start_time": "2024-10-28T20:37:25.764Z"
   },
   {
    "duration": 47,
    "start_time": "2024-10-28T20:38:26.491Z"
   },
   {
    "duration": 48,
    "start_time": "2024-10-28T20:42:20.906Z"
   },
   {
    "duration": 3,
    "start_time": "2024-10-28T20:42:36.685Z"
   },
   {
    "duration": 11,
    "start_time": "2024-10-28T20:42:37.064Z"
   },
   {
    "duration": 8,
    "start_time": "2024-10-28T20:42:37.258Z"
   },
   {
    "duration": 11,
    "start_time": "2024-10-28T20:42:37.439Z"
   },
   {
    "duration": 3,
    "start_time": "2024-10-28T20:42:37.630Z"
   },
   {
    "duration": 16,
    "start_time": "2024-10-28T20:42:38.041Z"
   },
   {
    "duration": 5,
    "start_time": "2024-10-28T20:42:38.243Z"
   },
   {
    "duration": 9,
    "start_time": "2024-10-28T20:42:38.436Z"
   },
   {
    "duration": 14,
    "start_time": "2024-10-28T20:42:38.639Z"
   },
   {
    "duration": 8,
    "start_time": "2024-10-28T20:42:38.851Z"
   },
   {
    "duration": 6,
    "start_time": "2024-10-28T20:42:39.264Z"
   },
   {
    "duration": 4,
    "start_time": "2024-10-28T20:42:39.755Z"
   },
   {
    "duration": 5,
    "start_time": "2024-10-28T20:42:40.070Z"
   },
   {
    "duration": 5,
    "start_time": "2024-10-28T20:42:40.317Z"
   },
   {
    "duration": 4,
    "start_time": "2024-10-28T20:42:40.587Z"
   },
   {
    "duration": 3,
    "start_time": "2024-10-28T20:42:41.079Z"
   },
   {
    "duration": 5,
    "start_time": "2024-10-28T20:42:41.426Z"
   },
   {
    "duration": 40,
    "start_time": "2024-10-28T20:42:42.414Z"
   },
   {
    "duration": 42,
    "start_time": "2024-10-28T20:45:36.428Z"
   },
   {
    "duration": 45,
    "start_time": "2024-10-28T20:46:19.950Z"
   },
   {
    "duration": 3,
    "start_time": "2024-10-28T20:46:25.411Z"
   },
   {
    "duration": 12,
    "start_time": "2024-10-28T20:46:26.238Z"
   },
   {
    "duration": 7,
    "start_time": "2024-10-28T20:46:26.540Z"
   },
   {
    "duration": 11,
    "start_time": "2024-10-28T20:46:26.860Z"
   },
   {
    "duration": 3,
    "start_time": "2024-10-28T20:46:27.133Z"
   },
   {
    "duration": 16,
    "start_time": "2024-10-28T20:46:27.764Z"
   },
   {
    "duration": 5,
    "start_time": "2024-10-28T20:46:28.074Z"
   },
   {
    "duration": 8,
    "start_time": "2024-10-28T20:46:28.361Z"
   },
   {
    "duration": 13,
    "start_time": "2024-10-28T20:46:28.696Z"
   },
   {
    "duration": 8,
    "start_time": "2024-10-28T20:46:28.991Z"
   },
   {
    "duration": 6,
    "start_time": "2024-10-28T20:46:29.539Z"
   },
   {
    "duration": 3,
    "start_time": "2024-10-28T20:46:30.071Z"
   },
   {
    "duration": 5,
    "start_time": "2024-10-28T20:46:30.399Z"
   },
   {
    "duration": 4,
    "start_time": "2024-10-28T20:46:30.710Z"
   },
   {
    "duration": 4,
    "start_time": "2024-10-28T20:46:30.990Z"
   },
   {
    "duration": 3,
    "start_time": "2024-10-28T20:46:31.633Z"
   },
   {
    "duration": 5,
    "start_time": "2024-10-28T20:46:31.916Z"
   },
   {
    "duration": 43,
    "start_time": "2024-10-28T20:46:32.845Z"
   },
   {
    "duration": 49,
    "start_time": "2024-10-28T20:47:30.911Z"
   },
   {
    "duration": 10,
    "start_time": "2024-10-28T20:48:15.432Z"
   },
   {
    "duration": 10,
    "start_time": "2024-10-28T20:48:46.672Z"
   },
   {
    "duration": 9,
    "start_time": "2024-10-28T20:50:54.756Z"
   },
   {
    "duration": 53,
    "start_time": "2024-10-28T20:55:24.727Z"
   },
   {
    "duration": 49,
    "start_time": "2024-10-28T20:55:38.690Z"
   },
   {
    "duration": 40,
    "start_time": "2024-10-28T20:56:06.869Z"
   },
   {
    "duration": 11,
    "start_time": "2024-10-28T20:56:33.625Z"
   },
   {
    "duration": 8,
    "start_time": "2024-10-28T21:15:09.077Z"
   },
   {
    "duration": 8,
    "start_time": "2024-10-28T21:15:16.967Z"
   },
   {
    "duration": 196,
    "start_time": "2024-10-28T21:15:42.200Z"
   },
   {
    "duration": 197,
    "start_time": "2024-10-28T21:17:19.158Z"
   },
   {
    "duration": 196,
    "start_time": "2024-10-28T21:23:36.537Z"
   },
   {
    "duration": 236,
    "start_time": "2024-10-28T21:24:17.381Z"
   },
   {
    "duration": 14,
    "start_time": "2024-10-28T21:25:43.499Z"
   },
   {
    "duration": 186,
    "start_time": "2024-10-28T21:25:57.360Z"
   },
   {
    "duration": 99,
    "start_time": "2024-10-28T21:26:41.378Z"
   },
   {
    "duration": 201,
    "start_time": "2024-10-28T21:31:08.391Z"
   },
   {
    "duration": 188,
    "start_time": "2024-10-28T21:31:38.514Z"
   },
   {
    "duration": 352,
    "start_time": "2024-10-28T21:35:28.183Z"
   },
   {
    "duration": 338,
    "start_time": "2024-10-28T21:35:52.285Z"
   },
   {
    "duration": 370,
    "start_time": "2024-10-28T21:48:13.724Z"
   },
   {
    "duration": 388,
    "start_time": "2024-10-28T21:48:30.689Z"
   },
   {
    "duration": 47,
    "start_time": "2024-10-28T21:52:40.558Z"
   },
   {
    "duration": 164,
    "start_time": "2024-10-28T21:53:17.069Z"
   },
   {
    "duration": 174,
    "start_time": "2024-10-28T21:53:35.103Z"
   },
   {
    "duration": 45,
    "start_time": "2024-10-28T21:54:37.834Z"
   },
   {
    "duration": 362,
    "start_time": "2024-10-28T21:55:14.138Z"
   },
   {
    "duration": 368,
    "start_time": "2024-10-28T21:55:39.036Z"
   },
   {
    "duration": 164,
    "start_time": "2024-10-29T19:24:02.512Z"
   },
   {
    "duration": 2633,
    "start_time": "2024-10-29T19:24:07.635Z"
   },
   {
    "duration": 18,
    "start_time": "2024-10-29T19:24:10.271Z"
   },
   {
    "duration": 9,
    "start_time": "2024-10-29T19:24:10.291Z"
   },
   {
    "duration": 11,
    "start_time": "2024-10-29T19:24:10.303Z"
   },
   {
    "duration": 3,
    "start_time": "2024-10-29T19:24:10.316Z"
   },
   {
    "duration": 19,
    "start_time": "2024-10-29T19:24:10.321Z"
   },
   {
    "duration": 27,
    "start_time": "2024-10-29T19:24:10.343Z"
   },
   {
    "duration": 8,
    "start_time": "2024-10-29T19:24:10.372Z"
   },
   {
    "duration": 13,
    "start_time": "2024-10-29T19:24:10.382Z"
   },
   {
    "duration": 6,
    "start_time": "2024-10-29T19:24:10.398Z"
   },
   {
    "duration": 6,
    "start_time": "2024-10-29T19:24:10.406Z"
   },
   {
    "duration": 4,
    "start_time": "2024-10-29T19:24:10.804Z"
   },
   {
    "duration": 5,
    "start_time": "2024-10-29T19:24:11.008Z"
   },
   {
    "duration": 5,
    "start_time": "2024-10-29T19:24:11.214Z"
   },
   {
    "duration": 4,
    "start_time": "2024-10-29T19:24:11.458Z"
   },
   {
    "duration": 2626,
    "start_time": "2024-10-29T23:50:35.544Z"
   },
   {
    "duration": 15,
    "start_time": "2024-10-29T23:50:38.173Z"
   },
   {
    "duration": 8,
    "start_time": "2024-10-29T23:50:38.190Z"
   },
   {
    "duration": 9,
    "start_time": "2024-10-29T23:50:38.200Z"
   },
   {
    "duration": 3,
    "start_time": "2024-10-29T23:50:38.211Z"
   },
   {
    "duration": 16,
    "start_time": "2024-10-29T23:50:38.380Z"
   },
   {
    "duration": 4,
    "start_time": "2024-10-29T23:50:38.559Z"
   },
   {
    "duration": 8,
    "start_time": "2024-10-29T23:50:38.755Z"
   },
   {
    "duration": 14,
    "start_time": "2024-10-29T23:50:38.943Z"
   },
   {
    "duration": 7,
    "start_time": "2024-10-29T23:50:39.159Z"
   },
   {
    "duration": 7,
    "start_time": "2024-10-29T23:50:39.551Z"
   },
   {
    "duration": 3,
    "start_time": "2024-10-29T23:50:39.935Z"
   },
   {
    "duration": 4,
    "start_time": "2024-10-29T23:50:40.122Z"
   },
   {
    "duration": 4,
    "start_time": "2024-10-29T23:50:40.315Z"
   },
   {
    "duration": 4,
    "start_time": "2024-10-29T23:50:40.513Z"
   },
   {
    "duration": 3,
    "start_time": "2024-10-29T23:50:40.955Z"
   },
   {
    "duration": 6,
    "start_time": "2024-10-29T23:50:41.113Z"
   },
   {
    "duration": 9,
    "start_time": "2024-10-29T23:50:41.670Z"
   },
   {
    "duration": 11,
    "start_time": "2024-10-29T23:50:42.374Z"
   },
   {
    "duration": 197,
    "start_time": "2024-10-29T23:50:43.810Z"
   },
   {
    "duration": 97,
    "start_time": "2024-10-29T23:50:45.202Z"
   },
   {
    "duration": 231,
    "start_time": "2024-10-29T23:50:47.076Z"
   },
   {
    "duration": 400,
    "start_time": "2024-10-29T23:50:48.655Z"
   },
   {
    "duration": 354,
    "start_time": "2024-10-29T23:50:49.277Z"
   },
   {
    "duration": 2632,
    "start_time": "2024-10-30T19:24:44.075Z"
   },
   {
    "duration": 16,
    "start_time": "2024-10-30T19:24:46.709Z"
   },
   {
    "duration": 8,
    "start_time": "2024-10-30T19:24:46.726Z"
   },
   {
    "duration": 10,
    "start_time": "2024-10-30T19:24:46.736Z"
   },
   {
    "duration": 2,
    "start_time": "2024-10-30T19:24:46.748Z"
   },
   {
    "duration": 35,
    "start_time": "2024-10-30T19:24:46.752Z"
   },
   {
    "duration": 5,
    "start_time": "2024-10-30T19:24:46.788Z"
   },
   {
    "duration": 8,
    "start_time": "2024-10-30T19:24:46.817Z"
   },
   {
    "duration": 14,
    "start_time": "2024-10-30T19:24:47.185Z"
   },
   {
    "duration": 8,
    "start_time": "2024-10-30T19:24:47.458Z"
   },
   {
    "duration": 7,
    "start_time": "2024-10-30T19:24:49.265Z"
   },
   {
    "duration": 4,
    "start_time": "2024-10-30T19:25:09.559Z"
   },
   {
    "duration": 5,
    "start_time": "2024-10-30T19:25:14.287Z"
   },
   {
    "duration": 5,
    "start_time": "2024-10-30T19:25:17.692Z"
   },
   {
    "duration": 4,
    "start_time": "2024-10-30T19:25:22.574Z"
   },
   {
    "duration": 4,
    "start_time": "2024-10-30T19:25:25.466Z"
   },
   {
    "duration": 6,
    "start_time": "2024-10-30T19:25:30.068Z"
   },
   {
    "duration": 10,
    "start_time": "2024-10-30T19:27:23.758Z"
   },
   {
    "duration": 11,
    "start_time": "2024-10-30T19:27:25.032Z"
   },
   {
    "duration": 550,
    "start_time": "2024-10-30T19:29:13.165Z"
   },
   {
    "duration": 42,
    "start_time": "2024-10-30T19:29:27.299Z"
   },
   {
    "duration": 11,
    "start_time": "2024-10-30T19:29:45.878Z"
   },
   {
    "duration": 201,
    "start_time": "2024-10-30T19:30:12.227Z"
   },
   {
    "duration": 111,
    "start_time": "2024-10-30T19:32:01.448Z"
   },
   {
    "duration": 395,
    "start_time": "2024-10-30T19:32:59.532Z"
   },
   {
    "duration": 349,
    "start_time": "2024-10-30T19:33:35.560Z"
   },
   {
    "duration": 375,
    "start_time": "2024-10-30T19:33:37.833Z"
   },
   {
    "duration": 366,
    "start_time": "2024-10-30T19:33:40.283Z"
   },
   {
    "duration": 415,
    "start_time": "2024-10-30T19:35:32.981Z"
   },
   {
    "duration": 210,
    "start_time": "2024-10-30T19:39:50.345Z"
   },
   {
    "duration": 407,
    "start_time": "2024-10-30T19:40:34.320Z"
   },
   {
    "duration": 357,
    "start_time": "2024-10-30T19:40:51.059Z"
   },
   {
    "duration": 359,
    "start_time": "2024-10-30T19:40:53.640Z"
   },
   {
    "duration": 357,
    "start_time": "2024-10-30T19:40:55.088Z"
   },
   {
    "duration": 7,
    "start_time": "2024-10-30T21:46:48.951Z"
   },
   {
    "duration": 174,
    "start_time": "2024-10-30T21:57:17.902Z"
   },
   {
    "duration": 5,
    "start_time": "2024-10-30T21:59:48.642Z"
   },
   {
    "duration": 107,
    "start_time": "2024-10-30T22:02:24.615Z"
   },
   {
    "duration": 106,
    "start_time": "2024-10-30T22:02:44.108Z"
   },
   {
    "duration": 6,
    "start_time": "2024-10-30T22:02:56.402Z"
   },
   {
    "duration": 7,
    "start_time": "2024-10-30T22:03:14.626Z"
   },
   {
    "duration": 29,
    "start_time": "2024-10-30T22:06:51.287Z"
   },
   {
    "duration": 142,
    "start_time": "2024-10-30T22:07:48.415Z"
   },
   {
    "duration": 3,
    "start_time": "2024-10-30T22:07:59.208Z"
   },
   {
    "duration": 11,
    "start_time": "2024-10-30T22:07:59.606Z"
   },
   {
    "duration": 7,
    "start_time": "2024-10-30T22:07:59.813Z"
   },
   {
    "duration": 12,
    "start_time": "2024-10-30T22:08:00.014Z"
   },
   {
    "duration": 4,
    "start_time": "2024-10-30T22:08:00.220Z"
   },
   {
    "duration": 16,
    "start_time": "2024-10-30T22:08:00.646Z"
   },
   {
    "duration": 4,
    "start_time": "2024-10-30T22:08:00.833Z"
   },
   {
    "duration": 8,
    "start_time": "2024-10-30T22:08:01.037Z"
   },
   {
    "duration": 14,
    "start_time": "2024-10-30T22:08:01.238Z"
   },
   {
    "duration": 10,
    "start_time": "2024-10-30T22:08:01.440Z"
   },
   {
    "duration": 8,
    "start_time": "2024-10-30T22:08:01.857Z"
   },
   {
    "duration": 3,
    "start_time": "2024-10-30T22:08:02.252Z"
   },
   {
    "duration": 6,
    "start_time": "2024-10-30T22:08:02.457Z"
   },
   {
    "duration": 5,
    "start_time": "2024-10-30T22:08:02.652Z"
   },
   {
    "duration": 5,
    "start_time": "2024-10-30T22:08:02.855Z"
   },
   {
    "duration": 4,
    "start_time": "2024-10-30T22:08:03.267Z"
   },
   {
    "duration": 5,
    "start_time": "2024-10-30T22:08:03.475Z"
   },
   {
    "duration": 9,
    "start_time": "2024-10-30T22:08:04.094Z"
   },
   {
    "duration": 10,
    "start_time": "2024-10-30T22:08:04.503Z"
   },
   {
    "duration": 112,
    "start_time": "2024-10-30T22:08:05.142Z"
   },
   {
    "duration": 187,
    "start_time": "2024-10-30T22:08:06.008Z"
   },
   {
    "duration": 181,
    "start_time": "2024-10-30T22:08:06.830Z"
   },
   {
    "duration": 393,
    "start_time": "2024-10-30T22:08:07.044Z"
   },
   {
    "duration": 387,
    "start_time": "2024-10-30T22:08:07.675Z"
   },
   {
    "duration": 339,
    "start_time": "2024-10-30T22:08:08.290Z"
   },
   {
    "duration": 376,
    "start_time": "2024-10-30T22:08:09.058Z"
   },
   {
    "duration": 8,
    "start_time": "2024-10-30T22:08:09.689Z"
   },
   {
    "duration": 5,
    "start_time": "2024-10-30T22:08:10.108Z"
   },
   {
    "duration": 46,
    "start_time": "2024-10-30T22:08:10.528Z"
   },
   {
    "duration": 214,
    "start_time": "2024-10-30T22:09:21.658Z"
   },
   {
    "duration": 3,
    "start_time": "2024-10-30T22:09:47.529Z"
   },
   {
    "duration": 10,
    "start_time": "2024-10-30T22:09:47.945Z"
   },
   {
    "duration": 7,
    "start_time": "2024-10-30T22:09:48.180Z"
   },
   {
    "duration": 11,
    "start_time": "2024-10-30T22:09:48.403Z"
   },
   {
    "duration": 3,
    "start_time": "2024-10-30T22:09:48.614Z"
   },
   {
    "duration": 16,
    "start_time": "2024-10-30T22:09:49.046Z"
   },
   {
    "duration": 5,
    "start_time": "2024-10-30T22:09:49.261Z"
   },
   {
    "duration": 9,
    "start_time": "2024-10-30T22:09:49.467Z"
   },
   {
    "duration": 12,
    "start_time": "2024-10-30T22:09:49.670Z"
   },
   {
    "duration": 8,
    "start_time": "2024-10-30T22:09:49.861Z"
   },
   {
    "duration": 7,
    "start_time": "2024-10-30T22:09:50.279Z"
   },
   {
    "duration": 4,
    "start_time": "2024-10-30T22:09:50.689Z"
   },
   {
    "duration": 4,
    "start_time": "2024-10-30T22:09:50.877Z"
   },
   {
    "duration": 5,
    "start_time": "2024-10-30T22:09:51.084Z"
   },
   {
    "duration": 4,
    "start_time": "2024-10-30T22:09:51.290Z"
   },
   {
    "duration": 4,
    "start_time": "2024-10-30T22:09:51.688Z"
   },
   {
    "duration": 6,
    "start_time": "2024-10-30T22:09:51.892Z"
   },
   {
    "duration": 10,
    "start_time": "2024-10-30T22:09:52.491Z"
   },
   {
    "duration": 11,
    "start_time": "2024-10-30T22:09:52.894Z"
   },
   {
    "duration": 120,
    "start_time": "2024-10-30T22:09:53.471Z"
   },
   {
    "duration": 181,
    "start_time": "2024-10-30T22:09:54.281Z"
   },
   {
    "duration": 95,
    "start_time": "2024-10-30T22:09:55.059Z"
   },
   {
    "duration": 406,
    "start_time": "2024-10-30T22:09:55.255Z"
   },
   {
    "duration": 463,
    "start_time": "2024-10-30T22:09:55.838Z"
   },
   {
    "duration": 357,
    "start_time": "2024-10-30T22:09:56.448Z"
   },
   {
    "duration": 382,
    "start_time": "2024-10-30T22:09:57.052Z"
   },
   {
    "duration": 7,
    "start_time": "2024-10-30T22:09:57.660Z"
   },
   {
    "duration": 5,
    "start_time": "2024-10-30T22:09:58.083Z"
   },
   {
    "duration": 13,
    "start_time": "2024-10-30T22:09:58.476Z"
   },
   {
    "duration": 15,
    "start_time": "2024-10-30T22:12:16.485Z"
   },
   {
    "duration": 8,
    "start_time": "2024-10-30T22:13:09.835Z"
   },
   {
    "duration": 9,
    "start_time": "2024-10-30T22:16:54.454Z"
   },
   {
    "duration": 17,
    "start_time": "2024-10-30T22:18:20.425Z"
   },
   {
    "duration": 46,
    "start_time": "2024-10-30T22:18:37.006Z"
   },
   {
    "duration": 49,
    "start_time": "2024-10-30T22:19:02.342Z"
   },
   {
    "duration": 3,
    "start_time": "2024-10-30T22:19:32.434Z"
   },
   {
    "duration": 11,
    "start_time": "2024-10-30T22:19:32.901Z"
   },
   {
    "duration": 7,
    "start_time": "2024-10-30T22:19:33.007Z"
   },
   {
    "duration": 12,
    "start_time": "2024-10-30T22:19:33.199Z"
   },
   {
    "duration": 3,
    "start_time": "2024-10-30T22:19:33.406Z"
   },
   {
    "duration": 16,
    "start_time": "2024-10-30T22:19:33.765Z"
   },
   {
    "duration": 5,
    "start_time": "2024-10-30T22:19:33.958Z"
   },
   {
    "duration": 8,
    "start_time": "2024-10-30T22:19:34.155Z"
   },
   {
    "duration": 13,
    "start_time": "2024-10-30T22:19:34.342Z"
   },
   {
    "duration": 7,
    "start_time": "2024-10-30T22:19:34.549Z"
   },
   {
    "duration": 7,
    "start_time": "2024-10-30T22:19:34.952Z"
   },
   {
    "duration": 4,
    "start_time": "2024-10-30T22:19:35.321Z"
   },
   {
    "duration": 5,
    "start_time": "2024-10-30T22:19:35.515Z"
   },
   {
    "duration": 4,
    "start_time": "2024-10-30T22:19:35.710Z"
   },
   {
    "duration": 4,
    "start_time": "2024-10-30T22:19:35.892Z"
   },
   {
    "duration": 4,
    "start_time": "2024-10-30T22:19:36.295Z"
   },
   {
    "duration": 5,
    "start_time": "2024-10-30T22:19:36.474Z"
   },
   {
    "duration": 9,
    "start_time": "2024-10-30T22:19:37.034Z"
   },
   {
    "duration": 11,
    "start_time": "2024-10-30T22:19:37.440Z"
   },
   {
    "duration": 113,
    "start_time": "2024-10-30T22:19:38.001Z"
   },
   {
    "duration": 187,
    "start_time": "2024-10-30T22:19:38.778Z"
   },
   {
    "duration": 96,
    "start_time": "2024-10-30T22:19:39.533Z"
   },
   {
    "duration": 391,
    "start_time": "2024-10-30T22:19:39.713Z"
   },
   {
    "duration": 343,
    "start_time": "2024-10-30T22:19:40.297Z"
   },
   {
    "duration": 353,
    "start_time": "2024-10-30T22:19:40.870Z"
   },
   {
    "duration": 329,
    "start_time": "2024-10-30T22:19:41.504Z"
   },
   {
    "duration": 7,
    "start_time": "2024-10-30T22:19:42.118Z"
   },
   {
    "duration": 6,
    "start_time": "2024-10-30T22:19:42.531Z"
   },
   {
    "duration": 11,
    "start_time": "2024-10-30T22:19:43.394Z"
   },
   {
    "duration": 7,
    "start_time": "2024-10-30T22:19:43.807Z"
   },
   {
    "duration": 45,
    "start_time": "2024-10-30T22:19:44.197Z"
   },
   {
    "duration": 12,
    "start_time": "2024-10-30T22:20:41.712Z"
   },
   {
    "duration": 11,
    "start_time": "2024-10-30T22:24:57.744Z"
   }
  ],
  "kernelspec": {
   "display_name": "Python 3 (ipykernel)",
   "language": "python",
   "name": "python3"
  },
  "language_info": {
   "codemirror_mode": {
    "name": "ipython",
    "version": 3
   },
   "file_extension": ".py",
   "mimetype": "text/x-python",
   "name": "python",
   "nbconvert_exporter": "python",
   "pygments_lexer": "ipython3",
   "version": "3.9.19"
  },
  "toc": {
   "base_numbering": 1,
   "nav_menu": {},
   "number_sections": true,
   "sideBar": true,
   "skip_h1_title": true,
   "title_cell": "Table of Contents",
   "title_sidebar": "Contents",
   "toc_cell": false,
   "toc_position": {},
   "toc_section_display": true,
   "toc_window_display": false
  }
 },
 "nbformat": 4,
 "nbformat_minor": 2
}
